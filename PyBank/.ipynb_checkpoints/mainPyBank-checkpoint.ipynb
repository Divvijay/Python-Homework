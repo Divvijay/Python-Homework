{
 "cells": [
  {
   "cell_type": "code",
   "execution_count": 20,
   "id": "c568c3b5-beb2-42b6-ac6a-6baa030f7bf9",
   "metadata": {},
   "outputs": [
    {
     "data": {
      "text/html": [
       "<div>\n",
       "<style scoped>\n",
       "    .dataframe tbody tr th:only-of-type {\n",
       "        vertical-align: middle;\n",
       "    }\n",
       "\n",
       "    .dataframe tbody tr th {\n",
       "        vertical-align: top;\n",
       "    }\n",
       "\n",
       "    .dataframe thead th {\n",
       "        text-align: right;\n",
       "    }\n",
       "</style>\n",
       "<table border=\"1\" class=\"dataframe\">\n",
       "  <thead>\n",
       "    <tr style=\"text-align: right;\">\n",
       "      <th></th>\n",
       "      <th>Date</th>\n",
       "      <th>Profit/Losses</th>\n",
       "    </tr>\n",
       "  </thead>\n",
       "  <tbody>\n",
       "    <tr>\n",
       "      <th>0</th>\n",
       "      <td>Jan-2010</td>\n",
       "      <td>867884</td>\n",
       "    </tr>\n",
       "    <tr>\n",
       "      <th>1</th>\n",
       "      <td>Feb-2010</td>\n",
       "      <td>984655</td>\n",
       "    </tr>\n",
       "    <tr>\n",
       "      <th>2</th>\n",
       "      <td>Mar-2010</td>\n",
       "      <td>322013</td>\n",
       "    </tr>\n",
       "    <tr>\n",
       "      <th>3</th>\n",
       "      <td>Apr-2010</td>\n",
       "      <td>-69417</td>\n",
       "    </tr>\n",
       "    <tr>\n",
       "      <th>4</th>\n",
       "      <td>May-2010</td>\n",
       "      <td>310503</td>\n",
       "    </tr>\n",
       "  </tbody>\n",
       "</table>\n",
       "</div>"
      ],
      "text/plain": [
       "       Date  Profit/Losses\n",
       "0  Jan-2010         867884\n",
       "1  Feb-2010         984655\n",
       "2  Mar-2010         322013\n",
       "3  Apr-2010         -69417\n",
       "4  May-2010         310503"
      ]
     },
     "execution_count": 20,
     "metadata": {},
     "output_type": "execute_result"
    }
   ],
   "source": [
    "import pandas as pd\n",
    "from pathlib import Path\n",
    "csvpath = Path(\"PyBank_budget_data.csv\")\n",
    "df = pd.read_csv(csvpath)\n",
    "df.head()\n"
   ]
  },
  {
   "cell_type": "code",
   "execution_count": 21,
   "id": "69fe2d38-bbcb-4e7a-af08-28bbe3acf0b6",
   "metadata": {},
   "outputs": [
    {
     "data": {
      "text/plain": [
       "(86, 2)"
      ]
     },
     "execution_count": 21,
     "metadata": {},
     "output_type": "execute_result"
    }
   ],
   "source": [
    "df.shape"
   ]
  },
  {
   "cell_type": "code",
   "execution_count": 22,
   "id": "642865dd-e572-4f6f-aff7-430454f8d6e7",
   "metadata": {},
   "outputs": [
    {
     "data": {
      "text/plain": [
       "Date             object\n",
       "Profit/Losses     int64\n",
       "dtype: object"
      ]
     },
     "execution_count": 22,
     "metadata": {},
     "output_type": "execute_result"
    }
   ],
   "source": [
    "df.dtypes"
   ]
  },
  {
   "cell_type": "code",
   "execution_count": 23,
   "id": "4484a7b5-8a71-4a70-98e1-0c9cdc9e0c3f",
   "metadata": {},
   "outputs": [
    {
     "data": {
      "text/html": [
       "<div>\n",
       "<style scoped>\n",
       "    .dataframe tbody tr th:only-of-type {\n",
       "        vertical-align: middle;\n",
       "    }\n",
       "\n",
       "    .dataframe tbody tr th {\n",
       "        vertical-align: top;\n",
       "    }\n",
       "\n",
       "    .dataframe thead th {\n",
       "        text-align: right;\n",
       "    }\n",
       "</style>\n",
       "<table border=\"1\" class=\"dataframe\">\n",
       "  <thead>\n",
       "    <tr style=\"text-align: right;\">\n",
       "      <th></th>\n",
       "      <th>Date</th>\n",
       "      <th>Profit/Losses</th>\n",
       "    </tr>\n",
       "  </thead>\n",
       "  <tbody>\n",
       "    <tr>\n",
       "      <th>0</th>\n",
       "      <td>False</td>\n",
       "      <td>False</td>\n",
       "    </tr>\n",
       "    <tr>\n",
       "      <th>1</th>\n",
       "      <td>False</td>\n",
       "      <td>False</td>\n",
       "    </tr>\n",
       "    <tr>\n",
       "      <th>2</th>\n",
       "      <td>False</td>\n",
       "      <td>False</td>\n",
       "    </tr>\n",
       "    <tr>\n",
       "      <th>3</th>\n",
       "      <td>False</td>\n",
       "      <td>False</td>\n",
       "    </tr>\n",
       "    <tr>\n",
       "      <th>4</th>\n",
       "      <td>False</td>\n",
       "      <td>False</td>\n",
       "    </tr>\n",
       "    <tr>\n",
       "      <th>...</th>\n",
       "      <td>...</td>\n",
       "      <td>...</td>\n",
       "    </tr>\n",
       "    <tr>\n",
       "      <th>81</th>\n",
       "      <td>False</td>\n",
       "      <td>False</td>\n",
       "    </tr>\n",
       "    <tr>\n",
       "      <th>82</th>\n",
       "      <td>False</td>\n",
       "      <td>False</td>\n",
       "    </tr>\n",
       "    <tr>\n",
       "      <th>83</th>\n",
       "      <td>False</td>\n",
       "      <td>False</td>\n",
       "    </tr>\n",
       "    <tr>\n",
       "      <th>84</th>\n",
       "      <td>False</td>\n",
       "      <td>False</td>\n",
       "    </tr>\n",
       "    <tr>\n",
       "      <th>85</th>\n",
       "      <td>False</td>\n",
       "      <td>False</td>\n",
       "    </tr>\n",
       "  </tbody>\n",
       "</table>\n",
       "<p>86 rows × 2 columns</p>\n",
       "</div>"
      ],
      "text/plain": [
       "     Date  Profit/Losses\n",
       "0   False          False\n",
       "1   False          False\n",
       "2   False          False\n",
       "3   False          False\n",
       "4   False          False\n",
       "..    ...            ...\n",
       "81  False          False\n",
       "82  False          False\n",
       "83  False          False\n",
       "84  False          False\n",
       "85  False          False\n",
       "\n",
       "[86 rows x 2 columns]"
      ]
     },
     "execution_count": 23,
     "metadata": {},
     "output_type": "execute_result"
    }
   ],
   "source": [
    "df.isna()"
   ]
  },
  {
   "cell_type": "code",
   "execution_count": 24,
   "id": "66e94ba2-70ec-402e-b3d8-de53c9042d87",
   "metadata": {},
   "outputs": [
    {
     "data": {
      "text/plain": [
       "86"
      ]
     },
     "execution_count": 24,
     "metadata": {},
     "output_type": "execute_result"
    }
   ],
   "source": [
    "# The tolal number of months in the data set\n",
    "total_months = df[\"Date\"].count()\n",
    "total_months\n",
    "# based on running the code, the totoal number of months in the data set are 86."
   ]
  },
  {
   "cell_type": "code",
   "execution_count": 25,
   "id": "8b371c10-e886-4907-81d1-13bfbd673e71",
   "metadata": {},
   "outputs": [
    {
     "data": {
      "text/plain": [
       "38382578"
      ]
     },
     "execution_count": 25,
     "metadata": {},
     "output_type": "execute_result"
    }
   ],
   "source": [
    "#The net total amount of Profit/Losses over the entire period.\n",
    "total_PnL = df[\"Profit/Losses\"].sum()\n",
    "total_PnL\n",
    "# After running the code, the total profit/losses during the 86 months is $38,382,578"
   ]
  },
  {
   "cell_type": "code",
   "execution_count": 26,
   "id": "685ca137-dbb3-4779-b5ec-d7b3c3c9065b",
   "metadata": {},
   "outputs": [
    {
     "data": {
      "text/plain": [
       "0         NaN\n",
       "1    116771.0\n",
       "2   -662642.0\n",
       "3   -391430.0\n",
       "4    379920.0\n",
       "Name: daily change in PnL, dtype: float64"
      ]
     },
     "execution_count": 26,
     "metadata": {},
     "output_type": "execute_result"
    }
   ],
   "source": [
    "#The average of the changes in Profit/Losses over the entire period.\n",
    "# creating a new column in the data set by the name of :\"Daily change in PnL\"\n",
    "df[\"daily change in PnL\"] = df[\"Profit/Losses\"].diff()\n",
    "df[\"daily change in PnL\"].head()\n",
    "# The \"daily change in pnL\" column looks like below\n"
   ]
  },
  {
   "cell_type": "code",
   "execution_count": 27,
   "id": "f3b0bd27-cc92-4ebe-835d-923014b6649a",
   "metadata": {},
   "outputs": [
    {
     "data": {
      "text/plain": [
       "-2315.1176470588234"
      ]
     },
     "execution_count": 27,
     "metadata": {},
     "output_type": "execute_result"
    }
   ],
   "source": [
    "# Calculating the average of the daily change in Pnl\n",
    "Average_change_in_PnL = df[\"daily change in PnL\"].mean()\n",
    "Average_change_in_PnL"
   ]
  },
  {
   "cell_type": "code",
   "execution_count": 28,
   "id": "8599a9d2-f61f-45aa-9b82-185b976b8f0b",
   "metadata": {},
   "outputs": [
    {
     "name": "stdout",
     "output_type": "stream",
     "text": [
      "Feb-2012\n",
      "1926159.0\n"
     ]
    }
   ],
   "source": [
    "# Calculation of The greatest increase in profits (date and amount) over the entire period\n",
    "maximum_profit = df[\"daily change in PnL\"].max()\n",
    "maximum_profit\n",
    "Date1= df.loc[df[\"daily change in PnL\"]== maximum_profit]\n",
    "maximum_profit_new = Date1[\"Date\"].to_string(index = False)\n",
    "print(maximum_profit_new)\n",
    "print(maximum_profit)\n",
    "\n"
   ]
  },
  {
   "cell_type": "code",
   "execution_count": 29,
   "id": "9c72cb56-0ddd-4da2-8b9c-9d6f4e9b67d6",
   "metadata": {},
   "outputs": [
    {
     "name": "stdout",
     "output_type": "stream",
     "text": [
      "-2196167.0\n",
      "Sep-2013\n"
     ]
    }
   ],
   "source": [
    "# Calcuation of the greatest decrease in profits\n",
    "minimum_profit_loss = df[\"daily change in PnL\"].min()\n",
    "print(minimum_profit_loss)\n",
    "Date2= df.loc[df[\"daily change in PnL\"]== minimum_profit_loss]\n",
    "min_profit_loss_new = Date2[\"Date\"].to_string(index = False)\n",
    "print(min_profit_loss_new)\n"
   ]
  },
  {
   "cell_type": "code",
   "execution_count": 32,
   "id": "feff379d-6a18-4e52-9c96-07e68dcea42f",
   "metadata": {},
   "outputs": [
    {
     "name": "stdout",
     "output_type": "stream",
     "text": [
      "Financial Analysis\n",
      "--------------------\n",
      "Total Months: 86\n",
      "Total Profit: $38382578\n",
      "Greatest Increase in Profits:Feb-2012 $1926159.0\n",
      "Greatest Decrease in Profits: Sep-2013 $-2196167.0\n",
      "Average change in P&L: $-2315.1176470588234\n"
     ]
    }
   ],
   "source": [
    "#Final Reult \n",
    "print(\"Financial Analysis\")\n",
    "print(f\"--------------------\")\n",
    "print(f\"Total Months: {total_months}\")\n",
    "print(f\"Total Profit: ${total_PnL}\")\n",
    "print(f\"Greatest Increase in Profits:{maximum_profit_new} ${maximum_profit}\")\n",
    "print(f\"Greatest Decrease in Profits: {min_profit_loss_new} ${minimum_profit_loss}\")\n",
    "print(f\"Average change in P&L: ${Average_change_in_PnL}\")\n"
   ]
  },
  {
   "cell_type": "code",
   "execution_count": null,
   "id": "3e55bbd8-3c9b-4f59-b8d4-9322c5d9b73e",
   "metadata": {},
   "outputs": [],
   "source": []
  }
 ],
 "metadata": {
  "kernelspec": {
   "display_name": "Python 3",
   "language": "python",
   "name": "python3"
  },
  "language_info": {
   "codemirror_mode": {
    "name": "ipython",
    "version": 3
   },
   "file_extension": ".py",
   "mimetype": "text/x-python",
   "name": "python",
   "nbconvert_exporter": "python",
   "pygments_lexer": "ipython3",
   "version": "3.8.5"
  }
 },
 "nbformat": 4,
 "nbformat_minor": 5
}
